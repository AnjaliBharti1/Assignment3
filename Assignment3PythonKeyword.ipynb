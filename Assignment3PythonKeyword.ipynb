{
  "nbformat": 4,
  "nbformat_minor": 0,
  "metadata": {
    "colab": {
      "provenance": []
    },
    "kernelspec": {
      "name": "python3",
      "display_name": "Python 3"
    },
    "language_info": {
      "name": "python"
    }
  },
  "cells": [
    {
      "cell_type": "code",
      "execution_count": null,
      "metadata": {
        "id": "nWP15t0-v06j"
      },
      "outputs": [],
      "source": []
    },
    {
      "cell_type": "markdown",
      "source": [
        "1.**Explain the significance of Python keywords and provide examples of five keywords.**"
      ],
      "metadata": {
        "id": "MF-D_n-YAqLY"
      }
    },
    {
      "cell_type": "markdown",
      "source": [
        "''' Significance Of Keyword:-\n",
        "\n",
        "False: This keyword is used to represent a boolean false. If a statement is false, “False” is printed.\n",
        "True: This keyword is used to represent a boolean true. If a statement is true, “True” is printed.\n",
        "None: This is a special constant used to denote a null value or a void. It’s important to remember, 0,\n",
        "any empty container(e.g. empty list) does not compute to None.\n",
        "is: This keyword is used to test object identity, i.e to check\n",
        "if both the objects take the same memory location or not\n",
        "not: This logical operator inverts the truth value. The truth table for “not” is depicted below.'''"
      ],
      "metadata": {
        "id": "LOo06wJOAxVf"
      }
    },
    {
      "cell_type": "markdown",
      "source": [
        "2.**Describe the rules for defining identifiers in Python and provide an example.**"
      ],
      "metadata": {
        "id": "Slf2brfWBBk7"
      }
    },
    {
      "cell_type": "code",
      "source": [
        "''' Identifier:- An identifer can only contains letters, digits,and underscores and cannot\n",
        "start with a digit.\n",
        "Rules for an identifier:-\n",
        "Identifier cannot be a keyword.\n",
        "Identifiers are case sensitive.\n",
        "It can have a sequence of letters and digits.\n",
        "whitespaces are not allowed.\n",
        "we cannot use special symbols like!@,#,$,and so on.'''"
      ],
      "metadata": {
        "id": "EW6CIpzdB0yU"
      },
      "execution_count": null,
      "outputs": []
    },
    {
      "cell_type": "markdown",
      "source": [
        "3.**What are commands in Python, and why are they useful Provide an example.**"
      ],
      "metadata": {
        "id": "TEmXwr1IB8bJ"
      }
    },
    {
      "cell_type": "code",
      "source": [
        "''' Commands in Python:-\n",
        "pwd - Prints the working directory.\n",
        "cp- Copies fields and directories.\n",
        "mv,move- Moves fields and directories.\n",
        "cd -This  command changes the current directory. It automatically manages the internal list of directories.\n",
        "len -To determine how many elements are contained in an object, use the len command and len function().\n",
        "\n",
        "The purpose of using command:-\n",
        "To perform a specific task . It can ba a single word , a line of code, or a series of instruction that tell\n",
        "the computer what to do.'''"
      ],
      "metadata": {
        "id": "Lonb8uHpCPHB"
      },
      "execution_count": null,
      "outputs": []
    },
    {
      "cell_type": "markdown",
      "source": [
        "4.**Why is proper indentation important in Python.**"
      ],
      "metadata": {
        "id": "DXMyo4VmCh8C"
      }
    },
    {
      "cell_type": "code",
      "source": [
        "'''Proper Indentation Important in Python:-\n",
        "Python indentation is necessary to make your code readable and easy to understand.\n",
        "Indentation helps structure your code, making it easier to understand.'''"
      ],
      "metadata": {
        "id": "8C-jL1wKCpl8"
      },
      "execution_count": null,
      "outputs": []
    },
    {
      "cell_type": "markdown",
      "source": [
        "5.**What happens if indentation is incorrect in Python.**"
      ],
      "metadata": {
        "id": "SuaOQO_PCzRy"
      }
    },
    {
      "cell_type": "code",
      "source": [
        "'''If indentation is incorrect in Python:-\n",
        "If at ant instance you have a bad indentation, the overall code will not run and the interpreter\n",
        "will simply return an error function.'''"
      ],
      "metadata": {
        "id": "XkzQDk5EC_ij"
      },
      "execution_count": null,
      "outputs": []
    }
  ]
}